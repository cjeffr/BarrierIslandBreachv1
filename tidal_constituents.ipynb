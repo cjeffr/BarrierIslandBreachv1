{
 "cells": [
  {
   "cell_type": "markdown",
   "metadata": {},
   "source": [
    "Single constituent\n",
    "y = A cos (at + α)\n",
    "\n",
    "for all constituents?\n",
    "\n",
    "The formula for that calculation is: h = Ho + Sum{ƒH cos[at + (Vo+u) - K]}\n",
    "\n",
    "The terms of the equation are defined as:\n",
    "\n",
    "h = height of tide at any time t.\n",
    "\n",
    "Ho = mean height of water level above datum used for prediction.\n",
    "\n",
    "H = mean amplitude of any constituent A.\n",
    "\n",
    "ƒ = factor for reducing mean amplitude H to year of prediction.\n",
    "\n",
    "a = speed of constituent A.\n",
    "\n",
    "t = time reckoned from some initial epoch such as beginning of year of predictions. (Vo+u) = value of equilibrium argument of constituent A when t = 0.\n",
    "\n",
    "K = epoch of constituent A.\n"
   ]
  },
  {
   "cell_type": "code",
   "execution_count": 37,
   "metadata": {},
   "outputs": [
    {
     "data": {
      "text/html": [
       "<div>\n",
       "<style scoped>\n",
       "    .dataframe tbody tr th:only-of-type {\n",
       "        vertical-align: middle;\n",
       "    }\n",
       "\n",
       "    .dataframe tbody tr th {\n",
       "        vertical-align: top;\n",
       "    }\n",
       "\n",
       "    .dataframe thead th {\n",
       "        text-align: right;\n",
       "    }\n",
       "</style>\n",
       "<table border=\"1\" class=\"dataframe\">\n",
       "  <thead>\n",
       "    <tr style=\"text-align: right;\">\n",
       "      <th></th>\n",
       "      <th>Date_Time (GMT)</th>\n",
       "      <th>Predicted (ft)</th>\n",
       "      <th>Preliminary (ft)</th>\n",
       "      <th>Verified (ft)</th>\n",
       "    </tr>\n",
       "  </thead>\n",
       "  <tbody>\n",
       "    <tr>\n",
       "      <th>0</th>\n",
       "      <td>2013-09-23 00:00:00</td>\n",
       "      <td>2.191</td>\n",
       "      <td>-</td>\n",
       "      <td>2.43</td>\n",
       "    </tr>\n",
       "    <tr>\n",
       "      <th>1</th>\n",
       "      <td>2013-09-23 00:06:00</td>\n",
       "      <td>2.265</td>\n",
       "      <td>-</td>\n",
       "      <td>2.50</td>\n",
       "    </tr>\n",
       "    <tr>\n",
       "      <th>2</th>\n",
       "      <td>2013-09-23 00:12:00</td>\n",
       "      <td>2.339</td>\n",
       "      <td>-</td>\n",
       "      <td>2.57</td>\n",
       "    </tr>\n",
       "    <tr>\n",
       "      <th>3</th>\n",
       "      <td>2013-09-23 00:18:00</td>\n",
       "      <td>2.413</td>\n",
       "      <td>-</td>\n",
       "      <td>2.63</td>\n",
       "    </tr>\n",
       "    <tr>\n",
       "      <th>4</th>\n",
       "      <td>2013-09-23 00:24:00</td>\n",
       "      <td>2.486</td>\n",
       "      <td>-</td>\n",
       "      <td>2.71</td>\n",
       "    </tr>\n",
       "  </tbody>\n",
       "</table>\n",
       "</div>"
      ],
      "text/plain": [
       "      Date_Time (GMT)  Predicted (ft) Preliminary (ft)  Verified (ft)\n",
       "0 2013-09-23 00:00:00           2.191                -           2.43\n",
       "1 2013-09-23 00:06:00           2.265                -           2.50\n",
       "2 2013-09-23 00:12:00           2.339                -           2.57\n",
       "3 2013-09-23 00:18:00           2.413                -           2.63\n",
       "4 2013-09-23 00:24:00           2.486                -           2.71"
      ]
     },
     "execution_count": 37,
     "metadata": {},
     "output_type": "execute_result"
    }
   ],
   "source": [
    "import numpy as np\n",
    "import os\n",
    "import matplotlib.pyplot as plt\n",
    "import pandas as pd\n",
    "odf = pd.read_csv('/Users/catherinej/Downloads/CO-OPS_8512354_wl (2).csv', parse_dates=[['Date', 'Time (GMT)']])\n",
    "idf = pd.read_csv('/Users/catherinej/Downloads/CO-OPS_8512451_wl (1).csv',parse_dates=[['Date', 'Time (GMT)']])\n",
    "odf.head()"
   ]
  },
  {
   "cell_type": "code",
   "execution_count": 45,
   "metadata": {},
   "outputs": [
    {
     "data": {
      "text/plain": [
       "<Figure size 1440x1152 with 0 Axes>"
      ]
     },
     "metadata": {},
     "output_type": "display_data"
    },
    {
     "data": {
      "image/png": "[encoded data removed]",
      "text/plain": [
       "<Figure size 432x288 with 1 Axes>"
      ]
     },
     "metadata": {
      "needs_background": "light"
     },
     "output_type": "display_data"
    }
   ],
   "source": [
    "plt.figure(figsize=(20,16))\n",
    "ax = odf.plot(x = 'Date_Time (GMT)', y='Verified (ft)')\n",
    "idf.plot(x='Date_Time (GMT)', y='Verified (ft)', ax=ax)\n",
    "ax.set_xlim(pd.Timestamp('2013-09-23 07:15:00'), pd.Timestamp('2013-09-23 9:30:00'))\n",
    "\n",
    "ax.xaxis.grid(True, which='minor')"
   ]
  },
  {
   "cell_type": "code",
   "execution_count": 51,
   "metadata": {},
   "outputs": [],
   "source": [
    "tc = pd.read_csv('/Users/catherinej/Downloads/tide_constituents.csv')"
   ]
  },
  {
   "cell_type": "code",
   "execution_count": 52,
   "metadata": {},
   "outputs": [
    {
     "data": {
      "text/html": [
       "<div>\n",
       "<style scoped>\n",
       "    .dataframe tbody tr th:only-of-type {\n",
       "        vertical-align: middle;\n",
       "    }\n",
       "\n",
       "    .dataframe tbody tr th {\n",
       "        vertical-align: top;\n",
       "    }\n",
       "\n",
       "    .dataframe thead th {\n",
       "        text-align: right;\n",
       "    }\n",
       "</style>\n",
       "<table border=\"1\" class=\"dataframe\">\n",
       "  <thead>\n",
       "    <tr style=\"text-align: right;\">\n",
       "      <th></th>\n",
       "      <th>Con</th>\n",
       "      <th>Name</th>\n",
       "      <th>Amplitude (m)</th>\n",
       "      <th>Phase</th>\n",
       "      <th>Speed</th>\n",
       "      <th>Description</th>\n",
       "    </tr>\n",
       "  </thead>\n",
       "  <tbody>\n",
       "    <tr>\n",
       "      <th>0</th>\n",
       "      <td>1</td>\n",
       "      <td>M2</td>\n",
       "      <td>0.440</td>\n",
       "      <td>353.6</td>\n",
       "      <td>28.984104</td>\n",
       "      <td>Principal lunar semidiurnal constituent</td>\n",
       "    </tr>\n",
       "    <tr>\n",
       "      <th>1</th>\n",
       "      <td>2</td>\n",
       "      <td>S2</td>\n",
       "      <td>0.090</td>\n",
       "      <td>22.7</td>\n",
       "      <td>30.000000</td>\n",
       "      <td>Principal solar semidiurnal constituent</td>\n",
       "    </tr>\n",
       "    <tr>\n",
       "      <th>2</th>\n",
       "      <td>3</td>\n",
       "      <td>N2</td>\n",
       "      <td>0.099</td>\n",
       "      <td>338.9</td>\n",
       "      <td>28.439730</td>\n",
       "      <td>Larger lunar elliptic semidiurnal constituent</td>\n",
       "    </tr>\n",
       "    <tr>\n",
       "      <th>3</th>\n",
       "      <td>4</td>\n",
       "      <td>K1</td>\n",
       "      <td>0.065</td>\n",
       "      <td>172.0</td>\n",
       "      <td>15.041069</td>\n",
       "      <td>Lunar diurnal constituent</td>\n",
       "    </tr>\n",
       "    <tr>\n",
       "      <th>4</th>\n",
       "      <td>5</td>\n",
       "      <td>M4</td>\n",
       "      <td>0.042</td>\n",
       "      <td>46.0</td>\n",
       "      <td>57.968210</td>\n",
       "      <td>Shallow water overtides of principal lunar con...</td>\n",
       "    </tr>\n",
       "  </tbody>\n",
       "</table>\n",
       "</div>"
      ],
      "text/plain": [
       "   Con Name  Amplitude (m)  Phase      Speed  \\\n",
       "0    1   M2          0.440  353.6  28.984104   \n",
       "1    2   S2          0.090   22.7  30.000000   \n",
       "2    3   N2          0.099  338.9  28.439730   \n",
       "3    4   K1          0.065  172.0  15.041069   \n",
       "4    5   M4          0.042   46.0  57.968210   \n",
       "\n",
       "                                         Description  \n",
       "0            Principal lunar semidiurnal constituent  \n",
       "1            Principal solar semidiurnal constituent  \n",
       "2      Larger lunar elliptic semidiurnal constituent  \n",
       "3                          Lunar diurnal constituent  \n",
       "4  Shallow water overtides of principal lunar con...  "
      ]
     },
     "execution_count": 52,
     "metadata": {},
     "output_type": "execute_result"
    }
   ],
   "source": [
    "#h = H0 + sum(fHcos(at + V0+u) - K)\n",
    "tc.head()"
   ]
  },
  {
   "cell_type": "code",
   "execution_count": 55,
   "metadata": {},
   "outputs": [
    {
     "data": {
      "text/plain": [
       "28.984104"
      ]
     },
     "execution_count": 55,
     "metadata": {},
     "output_type": "execute_result"
    }
   ],
   "source": [
    "tc.Speed[0]"
   ]
  },
  {
   "cell_type": "code",
   "execution_count": 53,
   "metadata": {
    "collapsed": true,
    "jupyter": {
     "outputs_hidden": true
    }
   },
   "outputs": [
    {
     "name": "stdout",
     "output_type": "stream",
     "text": [
      "1\n",
      "2\n",
      "3\n",
      "4\n",
      "5\n",
      "6\n",
      "7\n",
      "8\n",
      "9\n",
      "10\n",
      "11\n",
      "12\n",
      "13\n",
      "14\n",
      "15\n",
      "16\n",
      "17\n",
      "18\n",
      "19\n",
      "20\n",
      "21\n",
      "22\n",
      "23\n",
      "24\n",
      "25\n",
      "26\n",
      "27\n",
      "28\n",
      "29\n",
      "30\n",
      "31\n",
      "32\n",
      "33\n",
      "34\n",
      "35\n",
      "36\n",
      "37\n"
     ]
    }
   ],
   "source": [
    "for i in tc.Con:\n",
    "    y = A * np.cos(tc.Speed[i]*tc. + alpha)"
   ]
  },
  {
   "cell_type": "code",
   "execution_count": null,
   "metadata": {},
   "outputs": [],
   "source": [
    "Single constituent\n",
    "y = A cos (at + α)\n",
    "\n",
    "for all constituents?\n",
    "\n",
    "The formula for that calculation is: h = Ho + Sum{ƒH cos[at + (Vo+u) - K]}\n",
    "\n",
    "The terms of the equation are defined as:\n",
    "\n",
    "h = height of tide at any time t.\n",
    "\n",
    "Ho = mean height of water level above datum used for prediction.\n",
    "\n",
    "H = mean amplitude of any constituent A.\n",
    "\n",
    "ƒ = factor for reducing mean amplitude H to year of prediction.\n",
    "\n",
    "a = speed of constituent A.\n",
    "\n",
    "t = time reckoned from some initial epoch such as beginning of year of predictions. (Vo+u) = value of equilibrium argument of constituent A when t = 0.\n",
    "\n",
    "K = epoch of constituent A."
   ]
  }
 ],
 "metadata": {
  "kernelspec": {
   "display_name": "Python 3",
   "language": "python",
   "name": "python3"
  },
  "language_info": {
   "codemirror_mode": {
    "name": "ipython",
    "version": 3
   },
   "file_extension": ".py",
   "mimetype": "text/x-python",
   "name": "python",
   "nbconvert_exporter": "python",
   "pygments_lexer": "ipython3",
   "version": "3.6.3"
  }
 },
 "nbformat": 4,
 "nbformat_minor": 4
}
